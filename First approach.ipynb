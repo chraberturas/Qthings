{
 "cells": [
  {
   "cell_type": "code",
   "execution_count": 1,
   "id": "9485f32e",
   "metadata": {},
   "outputs": [
    {
     "name": "stdout",
     "output_type": "stream",
     "text": [
      "date       month   vendor pickup_time                   dropoff_time         ..\r\n",
      "-----------------------------------------------------------------------------..\r\n",
      "2009.01.01 2009.01 CMT    2009.01.01D00:00:00.000000000 2009.01.01D00:04:12.0..\r\n",
      "2009.01.01 2009.01 CMT    2009.01.01D00:00:00.000000000 2009.01.01D00:05:03.0..\r\n",
      "2009.01.01 2009.01 CMT    2009.01.01D00:00:02.000000000 2009.01.01D00:05:40.0..\r\n",
      "2009.01.01 2009.01 CMT    2009.01.01D00:00:04.000000000 2009.01.01D00:03:08.0..\r\n",
      "2009.01.01 2009.01 CMT    2009.01.01D00:00:07.000000000 2009.01.01D00:19:01.0..\r\n",
      "2009.01.01 2009.01 CMT    2009.01.01D00:00:09.000000000 2009.01.01D00:05:43.0..\r\n",
      "2009.01.01 2009.01 CMT    2009.01.01D00:00:10.000000000 2009.01.01D00:05:50.0..\r\n",
      "2009.01.01 2009.01 CMT    2009.01.01D00:00:13.000000000 2009.01.01D00:15:27.0..\r\n",
      "2009.01.01 2009.01 DDS    2009.01.01D00:00:15.000000000 2009.01.01D00:01:29.0..\r\n",
      "2009.01.01 2009.01 CMT    2009.01.01D00:00:16.000000000 2009.01.01D00:12:02.0..\r\n",
      "2009.01.01 2009.01 CMT    2009.01.01D00:00:17.000000000 2009.01.01D00:22:02.0..\r\n",
      "2009.01.01 2009.01 CMT    2009.01.01D00:00:21.000000000 2009.01.01D00:18:29.0..\r\n",
      "2009.01.01 2009.01 CMT    2009.01.01D00:00:23.000000000 2009.01.01D00:15:25.0..\r\n",
      "2009.01.01 2009.01 CMT    2009.01.01D00:00:25.000000000 2009.01.01D00:13:41.0..\r\n",
      "2009.01.01 2009.01 CMT    2009.01.01D00:00:27.000000000 2009.01.01D00:27:44.0..\r\n",
      "2009.01.01 2009.01 CMT    2009.01.01D00:00:27.000000000 2009.01.01D00:09:31.0..\r\n",
      "2009.01.01 2009.01 CMT    2009.01.01D00:00:27.000000000 2009.01.01D00:04:55.0..\r\n",
      "2009.01.01 2009.01 CMT    2009.01.01D00:00:28.000000000 2009.01.01D00:11:10.0..\r\n",
      "2009.01.01 2009.01 CMT    2009.01.01D00:00:29.000000000 2009.01.01D00:19:07.0..\r\n",
      "2009.01.01 2009.01 DDS    2009.01.01D00:00:29.000000000 2009.01.01D00:27:08.0..\r\n",
      "..\r\n"
     ]
    }
   ],
   "source": [
    "show trips:(\"DMSPPNHFFFFFSFEFFF\";1#\",\") 0: `:./data/trips.csv"
   ]
  },
  {
   "cell_type": "code",
   "execution_count": 1,
   "id": "c3d1cf10",
   "metadata": {},
   "outputs": [
    {
     "data": {
      "text/plain": [
       "raceId driverId lap position time         milliseconds\r\n",
       "------------------------------------------------------\r\n",
       "841    20       1   1        01:38:00.109 98109       \r\n",
       "841    20       2   1        01:33:00.006 93006       \r\n",
       "841    20       3   1        01:32:00.713 92713       \r\n",
       "841    20       4   1        01:32:00.803 92803       \r\n",
       "841    20       5   1        01:32:00.342 92342       \r\n",
       "841    20       6   1        01:32:00.605 92605       \r\n",
       "841    20       7   1        01:32:00.502 92502       \r\n",
       "841    20       8   1        01:32:00.537 92537       \r\n",
       "841    20       9   1        01:33:00.240 93240       \r\n",
       "841    20       10  1        01:32:00.572 92572       \r\n",
       "841    20       11  1        01:32:00.669 92669       \r\n",
       "841    20       12  1        01:32:00.902 92902       \r\n",
       "841    20       13  1        01:33:00.698 93698       \r\n",
       "841    20       14  3        01:52:00.075 112075      \r\n",
       "841    20       15  4        01:38:00.385 98385       \r\n",
       "841    20       16  2        01:31:00.548 91548       \r\n",
       "841    20       17  1        01:30:00.800 90800       \r\n",
       "841    20       18  1        01:31:00.810 91810       \r\n",
       "841    20       19  1        01:31:00.018 91018       \r\n",
       "841    20       20  1        01:31:00.055 91055       \r\n",
       "..\r\n"
      ]
     },
     "execution_count": 1,
     "metadata": {},
     "output_type": "execute_result"
    }
   ],
   "source": []
  },
  {
   "cell_type": "code",
   "execution_count": 2,
   "id": "e5603d77",
   "metadata": {},
   "outputs": [
    {
     "data": {
      "text/plain": [
       "c           | t f a\r\n",
       "------------| -----\r\n",
       "date        | d    \r\n",
       "month       | m    \r\n",
       "vendor      | s    \r\n",
       "pickup_time | p    \r\n",
       "dropoff_time| p    \r\n",
       "duration    | n    \r\n",
       "passengers  | h    \r\n",
       "distance    | f    \r\n",
       "start_long  | f    \r\n",
       "start_lat   | f    \r\n",
       "end_long    | f    \r\n",
       "end_lat     | f    \r\n",
       "payment_type| s    \r\n",
       "fare        | f    \r\n",
       "surcharge   | e    \r\n",
       "tip         | f    \r\n",
       "tolls       | f    \r\n",
       "total       | f    \r\n"
      ]
     },
     "execution_count": 2,
     "metadata": {},
     "output_type": "execute_result"
    }
   ],
   "source": [
    "meta trips"
   ]
  },
  {
   "cell_type": "code",
   "execution_count": 6,
   "id": "d855487f",
   "metadata": {},
   "outputs": [
    {
     "name": "stdout",
     "output_type": "stream",
     "text": [
      "date       fare\r\n",
      "---------------\r\n",
      "2009.01.01 27.8\r\n",
      "2009.01.01 10.6\r\n",
      "2009.01.01 11.8\r\n",
      "2009.01.01 20.2\r\n",
      "2009.01.01 23.4\r\n",
      "2009.01.01 12.2\r\n",
      "2009.01.01 17.8\r\n",
      "2009.01.01 30.2\r\n",
      "2009.01.01 14.6\r\n",
      "2009.01.01 17.3\r\n",
      "2009.01.01 21.4\r\n",
      "2009.01.01 15.8\r\n",
      "2009.01.01 25  \r\n",
      "2009.01.01 15  \r\n",
      "2009.01.01 17.4\r\n",
      "2009.01.01 26.2\r\n",
      "2009.01.01 15  \r\n",
      "2009.01.01 20.6\r\n",
      "2009.01.01 29  \r\n",
      "2009.01.01 14.6\r\n",
      "..\r\n"
     ]
    }
   ],
   "source": [
    "show nested_use:select date, fare from (trips lj select avg1:avg fare by date from trips) where fare>avg1"
   ]
  },
  {
   "cell_type": "code",
   "execution_count": 5,
   "id": "e920ad1d",
   "metadata": {},
   "outputs": [
    {
     "name": "stdout",
     "output_type": "stream",
     "text": [
      "date       fare\r\n",
      "---------------\r\n",
      "2009.01.01 27.8\r\n",
      "2009.01.01 10.6\r\n",
      "2009.01.01 11.8\r\n",
      "2009.01.01 20.2\r\n",
      "2009.01.01 23.4\r\n",
      "2009.01.01 12.2\r\n",
      "2009.01.01 17.8\r\n",
      "2009.01.01 30.2\r\n",
      "2009.01.01 14.6\r\n",
      "2009.01.01 17.3\r\n",
      "2009.01.01 21.4\r\n",
      "2009.01.01 15.8\r\n",
      "2009.01.01 25  \r\n",
      "2009.01.01 15  \r\n",
      "2009.01.01 17.4\r\n",
      "2009.01.01 26.2\r\n",
      "2009.01.01 15  \r\n",
      "2009.01.01 20.6\r\n",
      "2009.01.01 29  \r\n",
      "2009.01.01 14.6\r\n",
      "..\r\n"
     ]
    }
   ],
   "source": [
    "show fby_use:select date, fare from trips where fare > (avg; fare) fby date"
   ]
  },
  {
   "cell_type": "code",
   "execution_count": 9,
   "id": "a29cbf75",
   "metadata": {},
   "outputs": [
    {
     "data": {
      "text/plain": [
       "1b\r\n"
      ]
     },
     "execution_count": 9,
     "metadata": {},
     "output_type": "execute_result"
    }
   ],
   "source": [
    "nested_use ~ fby_use"
   ]
  },
  {
   "cell_type": "code",
   "execution_count": 13,
   "id": "b1f21f78",
   "metadata": {},
   "outputs": [
    {
     "name": "stdout",
     "output_type": "stream",
     "text": [
      "date       fare passengers\r\n",
      "--------------------------\r\n",
      "2009.01.01 27.8 1         \r\n",
      "2009.01.01 10.6 1         \r\n",
      "2009.01.01 11.8 2         \r\n",
      "2009.01.01 20.2 1         \r\n",
      "2009.01.01 23.4 2         \r\n",
      "2009.01.01 12.2 3         \r\n",
      "2009.01.01 17.8 1         \r\n",
      "2009.01.01 30.2 1         \r\n",
      "2009.01.01 14.6 1         \r\n",
      "2009.01.01 17.3 1         \r\n",
      "2009.01.01 21.4 1         \r\n",
      "2009.01.01 15.8 1         \r\n",
      "2009.01.01 25   1         \r\n",
      "2009.01.01 15   1         \r\n",
      "2009.01.01 17.4 2         \r\n",
      "2009.01.01 26.2 2         \r\n",
      "2009.01.01 15   1         \r\n",
      "2009.01.01 20.6 1         \r\n",
      "2009.01.01 29   1         \r\n",
      "2009.01.01 14.6 1         \r\n",
      "..\r\n"
     ]
    }
   ],
   "source": [
    "show mul_nested_use:select date, fare, passengers from (trips lj select avg1:avg fare by date, passengers from trips) where fare>avg1"
   ]
  },
  {
   "cell_type": "code",
   "execution_count": 14,
   "id": "8069330c",
   "metadata": {},
   "outputs": [
    {
     "name": "stdout",
     "output_type": "stream",
     "text": [
      "date       fare passengers\r\n",
      "--------------------------\r\n",
      "2009.01.01 27.8 1         \r\n",
      "2009.01.01 10.6 1         \r\n",
      "2009.01.01 11.8 2         \r\n",
      "2009.01.01 20.2 1         \r\n",
      "2009.01.01 23.4 2         \r\n",
      "2009.01.01 12.2 3         \r\n",
      "2009.01.01 17.8 1         \r\n",
      "2009.01.01 30.2 1         \r\n",
      "2009.01.01 14.6 1         \r\n",
      "2009.01.01 17.3 1         \r\n",
      "2009.01.01 21.4 1         \r\n",
      "2009.01.01 15.8 1         \r\n",
      "2009.01.01 25   1         \r\n",
      "2009.01.01 15   1         \r\n",
      "2009.01.01 17.4 2         \r\n",
      "2009.01.01 26.2 2         \r\n",
      "2009.01.01 15   1         \r\n",
      "2009.01.01 20.6 1         \r\n",
      "2009.01.01 29   1         \r\n",
      "2009.01.01 14.6 1         \r\n",
      "..\r\n"
     ]
    }
   ],
   "source": [
    "show mul_fby_use:select date, fare, passengers from trips where fare > (avg; fare) fby ([]date; passengers)"
   ]
  },
  {
   "cell_type": "code",
   "execution_count": 15,
   "id": "083d3510",
   "metadata": {},
   "outputs": [
    {
     "data": {
      "text/plain": [
       "1b\r\n"
      ]
     },
     "execution_count": 15,
     "metadata": {},
     "output_type": "execute_result"
    }
   ],
   "source": [
    "mul_nested_use ~ mul_fby_use"
   ]
  },
  {
   "cell_type": "code",
   "execution_count": 36,
   "id": "c9a683a4",
   "metadata": {},
   "outputs": [
    {
     "data": {
      "text/plain": [
       "minute fare    \r\n",
       "---------------\r\n",
       "00:00  11.38162\r\n",
       "00:05  10.44915\r\n",
       "00:10  10.25035\r\n",
       "00:15  10.17476\r\n",
       "00:20  9.850647\r\n",
       "00:25  10.32478\r\n",
       "00:30  10.03749\r\n",
       "00:35  10.50438\r\n",
       "00:40  10.43162\r\n"
      ]
     },
     "execution_count": 36,
     "metadata": {},
     "output_type": "execute_result"
    }
   ],
   "source": [
    "0!select avg fare by 5 xbar pickup_time.minute from trips"
   ]
  },
  {
   "cell_type": "code",
   "execution_count": null,
   "id": "deb10846",
   "metadata": {},
   "outputs": [],
   "source": []
  }
 ],
 "metadata": {
  "kernelspec": {
   "display_name": "Q (kdb+)",
   "language": "q",
   "name": "qpk"
  },
  "language_info": {
   "file_extension": ".q",
   "mimetype": "text/x-q",
   "name": "q",
   "version": "4.0"
  }
 },
 "nbformat": 4,
 "nbformat_minor": 5
}
