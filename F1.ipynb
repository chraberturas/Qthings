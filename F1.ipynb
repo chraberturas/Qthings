{
 "cells": [
  {
   "cell_type": "markdown",
   "id": "950c5272",
   "metadata": {},
   "source": [
    "# F1 Talk"
   ]
  },
  {
   "cell_type": "markdown",
   "id": "9912a096",
   "metadata": {},
   "source": [
    "![](images/alpine-a522-1.jpg)"
   ]
  },
  {
   "cell_type": "code",
   "execution_count": 6,
   "id": "38f9cb07",
   "metadata": {},
   "outputs": [
    {
     "name": "stdout",
     "output_type": "stream",
     "text": [
      "raceId driverId lap position time         milliseconds\r\n",
      "------------------------------------------------------\r\n",
      "841    20       1   1        01:38:00.109 98109       \r\n",
      "841    20       2   1        01:33:00.006 93006       \r\n",
      "841    20       3   1        01:32:00.713 92713       \r\n",
      "841    20       4   1        01:32:00.803 92803       \r\n",
      "841    20       5   1        01:32:00.342 92342       \r\n",
      "841    20       6   1        01:32:00.605 92605       \r\n",
      "841    20       7   1        01:32:00.502 92502       \r\n",
      "841    20       8   1        01:32:00.537 92537       \r\n",
      "841    20       9   1        01:33:00.240 93240       \r\n",
      "841    20       10  1        01:32:00.572 92572       \r\n",
      "841    20       11  1        01:32:00.669 92669       \r\n",
      "841    20       12  1        01:32:00.902 92902       \r\n",
      "841    20       13  1        01:33:00.698 93698       \r\n",
      "841    20       14  3        01:52:00.075 112075      \r\n",
      "841    20       15  4        01:38:00.385 98385       \r\n",
      "841    20       16  2        01:31:00.548 91548       \r\n",
      "841    20       17  1        01:30:00.800 90800       \r\n",
      "841    20       18  1        01:31:00.810 91810       \r\n",
      "841    20       19  1        01:31:00.018 91018       \r\n",
      "841    20       20  1        01:31:00.055 91055       \r\n",
      "..\r\n",
      "driverId driverRef   \r\n",
      "---------------------\r\n",
      "1        \"hamilton\"  \r\n",
      "2        \"heidfeld\"  \r\n",
      "3        \"rosberg\"   \r\n",
      "4        \"alonso\"    \r\n",
      "5        \"kovalainen\"\r\n",
      "6        \"nakajima\"  \r\n",
      "7        \"bourdais\"  \r\n",
      "8        \"raikkonen\" \r\n",
      "9        \"kubica\"    \r\n",
      "10       \"glock\"     \r\n",
      "11       \"sato\"      \r\n",
      "12       \"piquet_jr\" \r\n",
      "13       \"massa\"     \r\n",
      "14       \"coulthard\" \r\n",
      "15       \"trulli\"    \r\n",
      "16       \"sutil\"     \r\n",
      "17       \"webber\"    \r\n",
      "18       \"button\"    \r\n",
      "19       \"davidson\"  \r\n",
      "20       \"vettel\"    \r\n",
      "..\r\n"
     ]
    }
   ],
   "source": [
    "show lap_times:(\"IIIITI\";1#\",\") 0: `:./data/lap_times.csv\n",
    "show drivers:(\"I*\";1#\",\") 0: `:./data/drivers.csv\n",
    "//show circuits:(\"I *\";1#\",\") 0: `:./data/circuits.csv"
   ]
  },
  {
   "cell_type": "code",
   "execution_count": 2,
   "id": "7274929d",
   "metadata": {},
   "outputs": [
    {
     "name": "stdout",
     "output_type": "stream",
     "text": [
      "raceId lap| avg_time    \r\n",
      "----------| ------------\r\n",
      "1      1  | 01:54:13.105\r\n",
      "1      2  | 01:33:44.786\r\n",
      "1      3  | 01:31:41.564\r\n",
      "1      4  | 01:30:54.143\r\n",
      "1      5  | 01:30:22.673\r\n",
      "1      6  | 01:30:16.312\r\n",
      "1      7  | 01:30:09.925\r\n",
      "1      8  | 01:30:35.116\r\n",
      "1      9  | 01:32:03.584\r\n",
      "1      10 | 01:33:50.900\r\n",
      "1      11 | 01:33:54.243\r\n",
      "1      12 | 01:32:19.433\r\n",
      "1      13 | 01:30:16.325\r\n",
      "1      14 | 01:30:13.077\r\n",
      "1      15 | 01:29:54.222\r\n",
      "1      16 | 01:32:35.386\r\n",
      "1      17 | 01:30:57.441\r\n",
      "1      18 | 01:38:37.166\r\n",
      "1      19 | 01:49:37.178\r\n",
      "1      20 | 01:49:13.803\r\n",
      "..\r\n"
     ]
    }
   ],
   "source": [
    "show lap_avg:select avg_time:`time$avg time by raceId, lap from lap_times \n",
    "/select from lap_times where lap_times in good_laps\n",
    "/where avg_time<= 10000+(avg;time) fby raceId"
   ]
  },
  {
   "cell_type": "markdown",
   "id": "f192cc63",
   "metadata": {},
   "source": [
    "# Avoid nested queries"
   ]
  },
  {
   "cell_type": "code",
   "execution_count": null,
   "id": "ce0b49da",
   "metadata": {},
   "outputs": [],
   "source": [
    "// Calcular bien outliers, outlier si comparando con la anterior y la posterior cambia mucho -> xbar avg"
   ]
  },
  {
   "cell_type": "code",
   "execution_count": 3,
   "id": "4b06404a",
   "metadata": {},
   "outputs": [
    {
     "name": "stdout",
     "output_type": "stream",
     "text": [
      "raceId lap\r\n",
      "----------\r\n",
      "1      2  \r\n",
      "1      3  \r\n",
      "1      4  \r\n",
      "1      5  \r\n",
      "1      6  \r\n",
      "1      7  \r\n",
      "1      8  \r\n",
      "1      9  \r\n",
      "1      10 \r\n",
      "1      11 \r\n",
      "1      12 \r\n",
      "1      13 \r\n",
      "1      14 \r\n",
      "1      15 \r\n",
      "1      16 \r\n",
      "1      17 \r\n",
      "1      25 \r\n",
      "1      26 \r\n",
      "1      27 \r\n",
      "1      28 \r\n",
      "..\r\n"
     ]
    }
   ],
   "source": [
    "show good_laps_nes:select raceId, lap from (lap_avg lj select avg_race:20000+avg avg_time by raceId from lap_avg) where avg_time<=avg_race"
   ]
  },
  {
   "cell_type": "code",
   "execution_count": 4,
   "id": "b09395df",
   "metadata": {},
   "outputs": [
    {
     "name": "stdout",
     "output_type": "stream",
     "text": [
      "raceId lap\r\n",
      "----------\r\n",
      "1      2  \r\n",
      "1      3  \r\n",
      "1      4  \r\n",
      "1      5  \r\n",
      "1      6  \r\n",
      "1      7  \r\n",
      "1      8  \r\n",
      "1      9  \r\n",
      "1      10 \r\n",
      "1      11 \r\n",
      "1      12 \r\n",
      "1      13 \r\n",
      "1      14 \r\n",
      "1      15 \r\n",
      "1      16 \r\n",
      "1      17 \r\n",
      "1      25 \r\n",
      "1      26 \r\n",
      "1      27 \r\n",
      "1      28 \r\n",
      "..\r\n"
     ]
    }
   ],
   "source": [
    "show good_laps:select raceId,lap from lap_avg where avg_time<= 20000+(avg;avg_time) fby raceId"
   ]
  },
  {
   "cell_type": "code",
   "execution_count": 5,
   "id": "de8eb4bd",
   "metadata": {},
   "outputs": [
    {
     "data": {
      "text/plain": [
       "1b\r\n"
      ]
     },
     "execution_count": 5,
     "metadata": {},
     "output_type": "execute_result"
    }
   ],
   "source": [
    "good_laps_nes ~ good_laps"
   ]
  },
  {
   "cell_type": "code",
   "execution_count": 40,
   "id": "05b3fb95",
   "metadata": {},
   "outputs": [
    {
     "data": {
      "text/plain": [
       "raceId driverId lap position time         milliseconds\r\n",
       "------------------------------------------------------\r\n",
       "841    20       1   1        01:38:00.109 98109       \r\n",
       "841    20       2   1        01:33:00.006 93006       \r\n",
       "841    20       3   1        01:32:00.713 92713       \r\n",
       "841    20       4   1        01:32:00.803 92803       \r\n",
       "841    20       5   1        01:32:00.342 92342       \r\n",
       "841    20       6   1        01:32:00.605 92605       \r\n",
       "841    20       7   1        01:32:00.502 92502       \r\n",
       "841    20       8   1        01:32:00.537 92537       \r\n",
       "841    20       9   1        01:33:00.240 93240       \r\n",
       "841    20       10  1        01:32:00.572 92572       \r\n",
       "841    20       11  1        01:32:00.669 92669       \r\n",
       "841    20       12  1        01:32:00.902 92902       \r\n",
       "841    20       13  1        01:33:00.698 93698       \r\n",
       "841    20       15  4        01:38:00.385 98385       \r\n",
       "841    20       16  2        01:31:00.548 91548       \r\n",
       "841    20       17  1        01:30:00.800 90800       \r\n",
       "841    20       18  1        01:31:00.810 91810       \r\n",
       "841    20       19  1        01:31:00.018 91018       \r\n",
       "841    20       20  1        01:31:00.055 91055       \r\n",
       "841    20       21  1        01:31:00.288 91288       \r\n",
       "..\r\n"
      ]
     },
     "execution_count": 40,
     "metadata": {},
     "output_type": "execute_result"
    }
   ],
   "source": [
    "select from lap_times where 90>(100 xrank;time) fby raceId"
   ]
  },
  {
   "cell_type": "code",
   "execution_count": 20,
   "id": "ab0dbdaa",
   "metadata": {},
   "outputs": [
    {
     "data": {
      "text/plain": [
       "raceId driverId lap position time         milliseconds\r\n",
       "------------------------------------------------------\r\n",
       "841    20       40  1        01:30:00.530 90530       \r\n",
       "841    20       41  1        01:30:00.140 90140       \r\n",
       "841    20       42  1        01:30:00.419 90419       \r\n",
       "841    20       43  1        01:30:00.503 90503       \r\n",
       "841    20       44  1        01:29:00.844 89844       \r\n",
       "841    20       45  1        01:30:00.470 90470       \r\n",
       "841    20       47  1        01:30:00.297 90297       \r\n",
       "841    20       48  1        01:30:00.471 90471       \r\n",
       "841    20       56  1        01:29:00.962 89962       \r\n",
       "841    20       57  1        01:30:00.516 90516       \r\n",
       "841    1        39  2        01:30:00.338 90338       \r\n",
       "841    1        41  2        01:30:00.314 90314       \r\n",
       "841    1        42  2        01:30:00.421 90421       \r\n",
       "841    1        45  2        01:30:00.512 90512       \r\n",
       "841    1        46  2        01:30:00.508 90508       \r\n",
       "841    17       32  4        01:30:00.397 90397       \r\n",
       "841    17       34  4        01:30:00.474 90474       \r\n",
       "841    17       36  3        01:30:00.496 90496       \r\n",
       "841    17       38  3        01:30:00.482 90482       \r\n",
       "841    17       43  5        01:29:00.686 89686       \r\n",
       "..\r\n"
      ]
     },
     "execution_count": 20,
     "metadata": {},
     "output_type": "execute_result"
    }
   ],
   "source": [
    "fil_ptile:{eval parse \"select from lap_times where \",string[x],\">(rank;time) fby raceId\"}\n",
    "fil_ptile[90]"
   ]
  },
  {
   "cell_type": "code",
   "execution_count": 41,
   "id": "50d79ba0",
   "metadata": {},
   "outputs": [
    {
     "data": {
      "text/plain": [
       "?\r\n",
       "`lap_times\r\n",
       ",,(>;90;(k){$[(#x 1)=#y;@[(#y)#x[0]0#x 1;g;:;x[0]'x[1]g:.=y];'`length]};(enlist;(k){$[0h>@y;'`rank;_y*x%#y:<<y]};100);`time);`raceId))\r\n",
       "0b\r\n",
       "()\r\n"
      ]
     },
     "execution_count": 41,
     "metadata": {},
     "output_type": "execute_result"
    }
   ],
   "source": [
    "\\c 25 200\n",
    "parse \"select from lap_times where 90>(100 xrank;time) fby raceId\""
   ]
  },
  {
   "cell_type": "markdown",
   "id": "16ed40df",
   "metadata": {},
   "source": [
    "# Joins"
   ]
  },
  {
   "cell_type": "code",
   "execution_count": 6,
   "id": "b29dee1f",
   "metadata": {},
   "outputs": [
    {
     "data": {
      "text/plain": [
       "raceId driverId lap position time         milliseconds driverRef\r\n",
       "----------------------------------------------------------------\r\n",
       "841    20       1   1        01:38:00.109 98109        \"vettel\" \r\n",
       "841    20       2   1        01:33:00.006 93006        \"vettel\" \r\n",
       "841    20       3   1        01:32:00.713 92713        \"vettel\" \r\n",
       "841    20       4   1        01:32:00.803 92803        \"vettel\" \r\n",
       "841    20       5   1        01:32:00.342 92342        \"vettel\" \r\n",
       "841    20       6   1        01:32:00.605 92605        \"vettel\" \r\n",
       "841    20       7   1        01:32:00.502 92502        \"vettel\" \r\n",
       "841    20       8   1        01:32:00.537 92537        \"vettel\" \r\n",
       "841    20       9   1        01:33:00.240 93240        \"vettel\" \r\n",
       "841    20       10  1        01:32:00.572 92572        \"vettel\" \r\n",
       "841    20       11  1        01:32:00.669 92669        \"vettel\" \r\n",
       "841    20       12  1        01:32:00.902 92902        \"vettel\" \r\n",
       "841    20       13  1        01:33:00.698 93698        \"vettel\" \r\n",
       "841    20       14  3        01:52:00.075 112075       \"vettel\" \r\n",
       "841    20       15  4        01:38:00.385 98385        \"vettel\" \r\n",
       "841    20       16  2        01:31:00.548 91548        \"vettel\" \r\n",
       "841    20       17  1        01:30:00.800 90800        \"vettel\" \r\n",
       "841    20       18  1        01:31:00.810 91810        \"vettel\" \r\n",
       "841    20       19  1        01:31:00.018 91018        \"vettel\" \r\n",
       "841    20       20  1        01:31:00.055 91055        \"vettel\" \r\n",
       "..\r\n"
      ]
     },
     "execution_count": 6,
     "metadata": {},
     "output_type": "execute_result"
    }
   ],
   "source": [
    "lap_times lj 1!drivers"
   ]
  },
  {
   "cell_type": "code",
   "execution_count": 7,
   "id": "91fbe497",
   "metadata": {},
   "outputs": [
    {
     "name": "stdout",
     "output_type": "stream",
     "text": [
      "raceId lap driverId position time2        milliseconds\r\n",
      "------------------------------------------------------\r\n",
      "1      2   1        12       01:33:00.740 93740       \r\n",
      "1      3   1        11       01:31:00.600 91600       \r\n",
      "1      4   1        10       01:31:00.067 91067       \r\n",
      "1      5   1        10       01:32:00.129 92129       \r\n",
      "1      6   1        9        01:30:00.469 90469       \r\n",
      "1      7   1        9        01:29:00.488 89488       \r\n",
      "1      8   1        9        01:30:00.302 90302       \r\n",
      "1      9   1        9        01:30:00.889 90889       \r\n",
      "1      10  1        8        01:32:00.418 92418       \r\n",
      "1      11  1        14       01:55:00.549 115549      \r\n",
      "1      12  1        15       01:38:00.029 98029       \r\n",
      "1      13  1        15       01:32:00.372 92372       \r\n",
      "1      14  1        15       01:31:00.749 91749       \r\n",
      "1      15  1        15       01:30:00.771 90771       \r\n",
      "1      16  1        15       01:30:00.751 90751       \r\n",
      "1      17  1        15       01:30:00.984 90984       \r\n",
      "1      25  1        10       01:36:00.863 96863       \r\n",
      "1      26  1        10       01:32:00.198 92198       \r\n",
      "1      27  1        10       01:31:00.291 91291       \r\n",
      "1      28  1        10       01:30:00.377 90377       \r\n",
      "..\r\n"
     ]
    }
   ],
   "source": [
    "show good_laps_info:`raceId`lap`driverId`position`time2 xcol good_laps ij `raceId`lap xkey lap_times"
   ]
  },
  {
   "cell_type": "code",
   "execution_count": 12,
   "id": "33c95a63",
   "metadata": {},
   "outputs": [
    {
     "data": {
      "text/plain": [
       "raceId driverId lap position time         milliseconds time2       \r\n",
       "-------------------------------------------------------------------\r\n",
       "841    20       1   1        01:38:00.109 98109                    \r\n",
       "841    20       2   1        01:33:00.006 93006                    \r\n",
       "841    20       3   1        01:32:00.713 92713        01:32:00.713\r\n",
       "841    20       4   1        01:32:00.803 92803        01:32:00.803\r\n",
       "841    20       5   1        01:32:00.342 92342        01:32:00.342\r\n",
       "841    20       6   1        01:32:00.605 92605        01:32:00.605\r\n",
       "841    20       7   1        01:32:00.502 92502        01:32:00.502\r\n",
       "841    20       8   1        01:32:00.537 92537        01:32:00.537\r\n",
       "841    20       9   1        01:33:00.240 93240        01:33:00.240\r\n",
       "841    20       10  1        01:32:00.572 92572        01:32:00.572\r\n",
       "841    20       11  1        01:32:00.669 92572        01:32:00.572\r\n",
       "841    20       12  1        01:32:00.902 92572        01:32:00.572\r\n",
       "841    20       13  1        01:33:00.698 92572        01:32:00.572\r\n",
       "841    20       14  1        01:52:00.075 92572        01:32:00.572\r\n",
       "841    20       15  1        01:38:00.385 92572        01:32:00.572\r\n",
       "841    20       16  1        01:31:00.548 92572        01:32:00.572\r\n",
       "841    20       17  1        01:30:00.800 92572        01:32:00.572\r\n",
       "841    20       18  1        01:31:00.810 92572        01:32:00.572\r\n",
       "841    20       19  1        01:31:00.018 92572        01:32:00.572\r\n",
       "841    20       20  1        01:31:00.055 91055        01:31:00.055\r\n",
       "..\r\n"
      ]
     },
     "execution_count": 12,
     "metadata": {},
     "output_type": "execute_result"
    }
   ],
   "source": [
    "aj[`raceId`driverId`lap;lap_times;good_laps_info]"
   ]
  },
  {
   "cell_type": "code",
   "execution_count": 13,
   "id": "e142e340",
   "metadata": {},
   "outputs": [
    {
     "data": {
      "text/plain": [
       "raceId driverId lap time         time2       \r\n",
       "---------------------------------------------\r\n",
       "841    20       1   01:38:00.109 01:32:00.713\r\n",
       "841    20       2   01:33:00.006 01:32:00.758\r\n",
       "841    20       3   01:32:00.713 01:32:00.619\r\n",
       "841    20       4   01:32:00.803 01:32:00.616\r\n",
       "841    20       5   01:32:00.342 01:32:00.593\r\n",
       "841    20       6   01:32:00.605 01:32:00.558\r\n",
       "841    20       7   01:32:00.502 01:32:12.445\r\n",
       "841    20       8   01:32:00.537 01:32:12.491\r\n",
       "841    20       9   01:33:00.240 01:32:15.463\r\n",
       "841    20       10  01:32:00.572 01:32:20.450\r\n",
       "841    20       11  01:32:00.669 01:32:30.406\r\n",
       "841    20       12  01:32:00.902 01:32:00.572\r\n",
       "841    20       13  01:33:00.698 01:32:00.572\r\n",
       "841    20       14  01:52:00.075 01:32:00.572\r\n",
       "841    20       15  01:38:00.385 01:32:00.572\r\n",
       "841    20       16  01:31:00.548 01:32:00.572\r\n",
       "841    20       17  01:30:00.800 01:32:00.572\r\n",
       "841    20       18  01:31:00.810 01:31:30.314\r\n",
       "841    20       19  01:31:00.018 01:31:20.305\r\n",
       "841    20       20  01:31:00.055 01:31:15.250\r\n",
       "..\r\n"
      ]
     },
     "execution_count": 13,
     "metadata": {},
     "output_type": "execute_result"
    }
   ],
   "source": [
    "w:-2 2 +\\:lap_times `lap\n",
    "c:`raceId`driverId`lap  \n",
    "select raceId,driverId,lap,time,`time$time2 from wj[w;c;lap_times;(good_laps_info;(avg;`time2))]  "
   ]
  },
  {
   "cell_type": "code",
   "execution_count": 39,
   "id": "3d022daa",
   "metadata": {},
   "outputs": [],
   "source": [
    "// aj_as_wj:{[c;t1;t2]w:((count t1)#0N;t1 last c);l:{(last;x)}each cols t2;wj[w;c;t1;(t2;l)]}\n",
    "aj_as_wj:{[c;t1;t2]w:((count t1)#((type t1 last c)$0N);t1 last c);l:{(last;x)}each cols _[c;t2];wj[w;c;t1;(t2,l[0])]}"
   ]
  },
  {
   "cell_type": "code",
   "execution_count": 37,
   "id": "10a9c989",
   "metadata": {},
   "outputs": [
    {
     "name": "stdout",
     "output_type": "stream",
     "text": [
      "id dts        val\r\n",
      "-----------------\r\n",
      "a  2001.10.28    \r\n",
      "b  2000.11.02 136\r\n",
      "c  2003.04.13 137\r\n",
      "d  2000.11.27 501\r\n",
      "e  2003.09.08 876\r\n"
     ]
    }
   ],
   "source": [
    "t:([]id:`a`b`c`d`e;dts:5?2000.01.01)\n",
    "q:([]id:20?`a`b`c`d`e;dts:20?2000.01.01;val:20?1000)\n",
    "show aj[`id`dts;t;q]"
   ]
  },
  {
   "cell_type": "code",
   "execution_count": 38,
   "id": "aafc13df",
   "metadata": {},
   "outputs": [
    {
     "data": {
      "text/plain": [
       "id dts        val\r\n",
       "-----------------\r\n",
       "a  2001.10.28    \r\n",
       "b  2000.11.02 136\r\n",
       "c  2003.04.13 137\r\n",
       "d  2000.11.27 501\r\n",
       "e  2003.09.08 876\r\n"
      ]
     },
     "execution_count": 38,
     "metadata": {},
     "output_type": "execute_result"
    }
   ],
   "source": [
    "aj_as_wj[`id`dts;t;q]"
   ]
  },
  {
   "cell_type": "markdown",
   "id": "ddb07c0d",
   "metadata": {},
   "source": [
    "# Resample"
   ]
  },
  {
   "cell_type": "code",
   "execution_count": 2,
   "id": "d5d66345",
   "metadata": {},
   "outputs": [
    {
     "name": "stdout",
     "output_type": "stream",
     "text": [
      "sessionTime frameIdentifier pilot_index worldVelocityX worldVelocityY worldVe..\r\n",
      "-----------------------------------------------------------------------------..\r\n",
      "0.0088      0               0           0.0017         -0.00066       0.00038..\r\n",
      "0.0088      0               1           -0.00067       -0.00201       0.00047..\r\n",
      "0.0088      0               2           -0.00153       -0.00017       -2e-005..\r\n",
      "0.0088      0               3           -0.00228       0.00105        -0.0003..\r\n",
      "0.0088      0               4           -0.00057       0.00026        -0.0005..\r\n",
      "0.0088      0               5           -0.00085       0.00081        -0.0005..\r\n",
      "0.0088      0               6           -0.00109       0.00166        0.00033..\r\n",
      "0.0088      0               7           -0.00182       0.0005         -0.0001..\r\n",
      "0.0088      0               8           -0.00073       0.00251        0.00043..\r\n",
      "0.0088      0               9           -0.00054       -0.002         0.00029..\r\n",
      "0.0088      0               10          -0.00102       0.00108        0.00081..\r\n",
      "0.0088      0               11          -0.00096       -2e-005        0.00067..\r\n",
      "0.0088      0               12          -0.00123       0.00133        -7e-005..\r\n",
      "0.0088      0               13          -0.00263       -0.00228       0.00026..\r\n",
      "0.0088      0               14          -0.00122       0.00014        -0.0004..\r\n",
      "0.0088      0               15          -0.0005        0.00071        -0.0005..\r\n",
      "0.0088      0               16          -0.0025        -0.0004        0.00031..\r\n",
      "0.0088      0               17          -0.00111       0.00236        0.00081..\r\n",
      "0.0088      0               18          -0.00054       -0.00199       0.00048..\r\n",
      "0.0088      0               19          0.00126        -0.00245       0.00079..\r\n",
      "..\r\n"
     ]
    }
   ],
   "source": [
    "show telemetry: (\"FII   FFF                                        I\";1#\",\") 0: `:./data/TelemetryData.csv"
   ]
  },
  {
   "cell_type": "code",
   "execution_count": 54,
   "id": "94cda51e",
   "metadata": {},
   "outputs": [
    {
     "data": {
      "text/plain": [
       "sessionTime pilot_index currentLapNum x          \r\n",
       "-------------------------------------------------\r\n",
       "0           0           1             0.003590433\r\n",
       "0           1           1             0.001969355\r\n",
       "0           2           1             0.001545472\r\n",
       "0           3           1             0.002441347\r\n",
       "0           4           1             0.002309225\r\n",
       "0           5           1             0.002106891\r\n",
       "0           6           1             0.002266738\r\n",
       "0           7           1             0.001828808\r\n",
       "0           8           1             0.002414204\r\n",
       "0           9           1             0.001908417\r\n",
       "0           10          1             0.001854323\r\n",
       "0           11          1             0.002462328\r\n",
       "0           12          1             0.001822239\r\n",
       "0           13          1             0.002937215\r\n",
       "0           14          1             0.003379025\r\n",
       "0           15          1             0.001849105\r\n",
       "0           16          1             0.00262482 \r\n",
       "0           17          1             0.00275018 \r\n",
       "0           18          1             0.001847607\r\n",
       "0           19          1             0.01791383 \r\n",
       "..\r\n"
      ]
     },
     "execution_count": 54,
     "metadata": {},
     "output_type": "execute_result"
    }
   ],
   "source": [
    "0!select first currentLapNum,velocity:avg sqrt((worldVelocityX xexp 2)+(worldVelocityY xexp 2)+(worldVelocityZ xexp 2)) by 0.5 xbar sessionTime, pilot_index from telemetry"
   ]
  },
  {
   "cell_type": "code",
   "execution_count": null,
   "id": "12efa309",
   "metadata": {},
   "outputs": [],
   "source": []
  }
 ],
 "metadata": {
  "kernelspec": {
   "display_name": "Q (kdb+)",
   "language": "q",
   "name": "qpk"
  },
  "language_info": {
   "file_extension": ".q",
   "mimetype": "text/x-q",
   "name": "q",
   "version": "4.0"
  }
 },
 "nbformat": 4,
 "nbformat_minor": 5
}
