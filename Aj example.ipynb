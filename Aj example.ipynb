{
 "cells": [
  {
   "cell_type": "markdown",
   "id": "47b39326",
   "metadata": {},
   "source": [
    "# Create Tables"
   ]
  },
  {
   "cell_type": "code",
   "execution_count": 1,
   "id": "22950a92",
   "metadata": {},
   "outputs": [
    {
     "name": "stdout",
     "output_type": "stream",
     "text": [
      "id dts  \r\n",
      "--------\r\n",
      "a  06:00\r\n",
      "b  08:42\r\n",
      "c  04:17\r\n",
      "d  09:45\r\n",
      "e  01:30\r\n",
      "id dts   val       \r\n",
      "-------------------\r\n",
      "b  05:14 0.5347096 \r\n",
      "c  09:40 0.7111716 \r\n",
      "d  00:45 0.411597  \r\n",
      "e  01:04 0.4931835 \r\n",
      "e  02:57 0.5785203 \r\n",
      "c  03:58 0.08388858\r\n",
      "e  06:01 0.1959907 \r\n",
      "e  04:01 0.375638  \r\n",
      "e  04:56 0.6137452 \r\n",
      "e  03:36 0.5294808 \r\n"
     ]
    }
   ],
   "source": [
    "show t0:([]id:`a`b`c`d`e;dts:5?10:00)\n",
    "show tcks:([]id:10?`a`b`c`d`e;dts:10?10:00;val:10?1f)"
   ]
  },
  {
   "cell_type": "markdown",
   "id": "e9655ed1",
   "metadata": {},
   "source": [
    "# First way -> As of Join and pivot"
   ]
  },
  {
   "cell_type": "code",
   "execution_count": 6,
   "id": "17b15ab9",
   "metadata": {},
   "outputs": [
    {
     "name": "stdout",
     "output_type": "stream",
     "text": [
      "id dts  \r\n",
      "--------\r\n",
      "a  06:01\r\n",
      "a  06:02\r\n",
      "a  06:03\r\n",
      "b  08:43\r\n",
      "b  08:44\r\n",
      "b  08:45\r\n",
      "c  04:18\r\n",
      "c  04:19\r\n",
      "c  04:20\r\n",
      "d  09:46\r\n",
      "d  09:47\r\n",
      "d  09:48\r\n",
      "e  01:31\r\n",
      "e  01:32\r\n",
      "e  01:33\r\n"
     ]
    },
    {
     "data": {
      "text/plain": [
       "`t\r\n"
      ]
     },
     "execution_count": 6,
     "metadata": {},
     "output_type": "execute_result"
    }
   ],
   "source": [
    "show t:ungroup select id,dts:({1 2 3+\\x};dts) fby id from t0\n",
    "update temps:15#1 2 3 from `t"
   ]
  },
  {
   "cell_type": "code",
   "execution_count": 3,
   "id": "eb68ff8d",
   "metadata": {},
   "outputs": [
    {
     "name": "stdout",
     "output_type": "stream",
     "text": [
      "id dts   temps val       \r\n",
      "-------------------------\r\n",
      "a  06:01 1               \r\n",
      "a  06:02 2               \r\n",
      "a  06:03 3               \r\n",
      "b  08:43 1     0.5347096 \r\n",
      "b  08:44 2     0.5347096 \r\n",
      "b  08:45 3     0.5347096 \r\n",
      "c  04:18 1     0.08388858\r\n",
      "c  04:19 2     0.08388858\r\n",
      "c  04:20 3     0.08388858\r\n",
      "d  09:46 1     0.411597  \r\n",
      "d  09:47 2     0.411597  \r\n",
      "d  09:48 3     0.411597  \r\n",
      "e  01:31 1     0.4931835 \r\n",
      "e  01:32 2     0.4931835 \r\n",
      "e  01:33 3     0.4931835 \r\n"
     ]
    }
   ],
   "source": []
  },
  {
   "cell_type": "code",
   "execution_count": 10,
   "id": "ce2b57c0",
   "metadata": {},
   "outputs": [
    {
     "name": "stdout",
     "output_type": "stream",
     "text": [
      "id dts   temps val       \r\n",
      "-------------------------\r\n",
      "a  06:01 1               \r\n",
      "a  06:02 2               \r\n",
      "a  06:03 3               \r\n",
      "b  08:43 1     0.5347096 \r\n",
      "b  08:44 2     0.5347096 \r\n",
      "b  08:45 3     0.5347096 \r\n",
      "c  04:18 1     0.08388858\r\n",
      "c  04:19 2     0.08388858\r\n",
      "c  04:20 3     0.08388858\r\n",
      "d  09:46 1     0.411597  \r\n",
      "d  09:47 2     0.411597  \r\n",
      "d  09:48 3     0.411597  \r\n",
      "e  01:31 1     0.4931835 \r\n",
      "e  01:32 2     0.4931835 \r\n",
      "e  01:33 3     0.4931835 \r\n",
      "id dts  \r\n",
      "--------\r\n",
      "a  06:00\r\n",
      "b  08:42\r\n",
      "c  04:17\r\n",
      "d  09:45\r\n",
      "e  01:30\r\n",
      "id 1          2          3          dts  \r\n",
      "-----------------------------------------\r\n",
      "a                                   06:00\r\n",
      "b  0.5347096  0.5347096  0.5347096  08:42\r\n",
      "c  0.08388858 0.08388858 0.08388858 04:17\r\n",
      "d  0.411597   0.411597   0.411597   09:45\r\n",
      "e  0.4931835  0.4931835  0.4931835  01:30\r\n",
      "id dts  \r\n",
      "--------\r\n",
      "a  06:00\r\n",
      "b  08:42\r\n",
      "c  04:17\r\n",
      "d  09:45\r\n",
      "e  01:30\r\n"
     ]
    },
    {
     "data": {
      "text/plain": [
       "id 1          2          3          dts  \r\n",
       "-----------------------------------------\r\n",
       "a                                   06:00\r\n",
       "b  0.5347096  0.5347096  0.5347096  08:42\r\n",
       "c  0.08388858 0.08388858 0.08388858 04:17\r\n",
       "d  0.411597   0.411597   0.411597   09:45\r\n",
       "e  0.4931835  0.4931835  0.4931835  01:30\r\n"
      ]
     },
     "execution_count": 10,
     "metadata": {},
     "output_type": "execute_result"
    }
   ],
   "source": [
    "show mer:aj[`id`dts;t;tcks]\n",
    "show pivot:0!exec (enlist`dts)!enlist first dts-1 by id:id from mer\n",
    "show pivot:0!exec ((`$string temps)!val) ^(enlist`dts)!enlist first dts-1 by id:id from mer\n",
    "show dat:(0!select first dts - temps[0] by id from t) \n",
    "update dts:dat`dts from pivot"
   ]
  },
  {
   "cell_type": "markdown",
   "id": "a66ebc49",
   "metadata": {},
   "source": [
    "# Second way -> Window join"
   ]
  },
  {
   "cell_type": "code",
   "execution_count": 5,
   "id": "cc745489",
   "metadata": {},
   "outputs": [
    {
     "data": {
      "text/plain": [
       "id dts   val1s     val2s     val3s    \r\n",
       "--------------------------------------\r\n",
       "a  06:58                              \r\n",
       "b  02:06                              \r\n",
       "c  01:17                              \r\n",
       "d  08:23 0.8177547 0.8177547 0.8177547\r\n",
       "e  02:00                              \r\n"
      ]
     },
     "execution_count": 5,
     "metadata": {},
     "output_type": "execute_result"
    }
   ],
   "source": [
    "temps:1 2 3\n",
    "over[{x ij `dts xkey y};{w:((count t0)#00:00; x+t0.dts);q:wj1[w;`id`dts;t0;(tcks;(last;`val))];xcol[(`id`dts),`$(\"val\"),(string x),\"s\";q]} each temps]"
   ]
  },
  {
   "cell_type": "code",
   "execution_count": 6,
   "id": "743bb5fa",
   "metadata": {},
   "outputs": [
    {
     "data": {
      "text/plain": [
       "id dts   val1s      val2s      val3s     \r\n",
       "-----------------------------------------\r\n",
       "a  06:58 0.6884756  0.6884756  0.6884756 \r\n",
       "b  02:06 0.8671096  0.8671096  0.8671096 \r\n",
       "c  01:17 0.08724017 0.08724017 0.08724017\r\n",
       "d  08:23                                 \r\n",
       "e  02:00                                 \r\n"
      ]
     },
     "execution_count": 6,
     "metadata": {},
     "output_type": "execute_result"
    }
   ],
   "source": [
    "temps:1 2 3\n",
    "over[{x ij `dts xkey y};{w:(x+t0.dts;(count t0)#23:59);q:wj1[w;`id`dts;t0;(tcks;(last;`val))];xcol[(`id`dts),`$(\"val\"),(string x),\"s\";q]} each temps]"
   ]
  },
  {
   "cell_type": "code",
   "execution_count": null,
   "id": "c2931dbd",
   "metadata": {},
   "outputs": [],
   "source": []
  }
 ],
 "metadata": {
  "kernelspec": {
   "display_name": "Q (kdb+)",
   "language": "q",
   "name": "qpk"
  },
  "language_info": {
   "file_extension": ".q",
   "mimetype": "text/x-q",
   "name": "q",
   "version": "4.0"
  }
 },
 "nbformat": 4,
 "nbformat_minor": 5
}
